{
 "cells": [
  {
   "cell_type": "markdown",
   "id": "19e2be94",
   "metadata": {},
   "source": [
    "# Cross Entropy 2D Optimisation (Beta Distribution)"
   ]
  },
  {
   "cell_type": "markdown",
   "id": "7b26047b",
   "metadata": {},
   "source": [
    "Copyright 2016, Maria Kovaleva, David Bulger.\n",
    "Macquarire University. All rights reserved.  \n",
    "Adapted from MATLAB to Python/Jupyter by Liam Ryan 29/06/2020.\n",
    "\n",
    "Two dimensional optimisation algorithm using the [Cross Entropy Method](https://en.wikipedia.org/wiki/Cross-entropy_method).\n",
    "Data is fitted to a [Beta Distribution](https://en.wikipedia.org/wiki/Beta_distribution) in the algorithm. Parameters and the [fitness function](https://en.wikipedia.org/wiki/Fitness_function) can easily be changed.\n",
    "\n",
    "Can be obtained as a .py or .ipynb here via Github [here](https://github.com/LDRyan0/2D-Cross-Entropy-Optimisation)."
   ]
  },
  {
   "cell_type": "code",
   "execution_count": 1,
   "id": "f2343a24",
   "metadata": {},
   "outputs": [],
   "source": [
    "import numpy as np\n",
    "import matplotlib.pyplot as plt\n",
    "import math\n",
    "from scipy.stats import beta"
   ]
  },
  {
   "cell_type": "markdown",
   "id": "cfa33204",
   "metadata": {},
   "source": [
    "### Set the design parameters here"
   ]
  },
  {
   "cell_type": "code",
   "execution_count": 2,
   "id": "d12578b3",
   "metadata": {},
   "outputs": [],
   "source": [
    "x_range = (-5, 5)\n",
    "y_range = (-5, 5)"
   ]
  },
  {
   "cell_type": "markdown",
   "id": "bc208783",
   "metadata": {},
   "source": [
    "### Set Cross Entropy parameters here"
   ]
  },
  {
   "cell_type": "code",
   "execution_count": 3,
   "id": "90ca278f",
   "metadata": {},
   "outputs": [],
   "source": [
    "genSize = 20 # generation size\n",
    "qElite = 5 # elite size (inclusive)\n",
    "smoothing = 0.5 # smoothing parameter\n",
    "fBestAntenna = -100000 # initial best\n",
    "N_it = 15 # number of iterations"
   ]
  },
  {
   "cell_type": "markdown",
   "id": "1be30f87",
   "metadata": {},
   "source": [
    "### Set fitness function here\n",
    "Define fitness function in terms of x and y"
   ]
  },
  {
   "cell_type": "code",
   "execution_count": 4,
   "id": "a394d60d",
   "metadata": {},
   "outputs": [],
   "source": [
    "def func(x,y):\n",
    "    return -(-20*math.exp(-0.2*math.sqrt(0.5*(x**2+y**2)))-math.exp(0.5*(math.cos(2*math.pi*x)+math.cos(2*math.pi*y)))+20+math.exp(1))"
   ]
  },
  {
   "cell_type": "markdown",
   "id": "c68d973e",
   "metadata": {},
   "source": [
    "### Execution of CE Optimisation Algorithm"
   ]
  },
  {
   "cell_type": "code",
   "execution_count": 5,
   "id": "2a22b3eb",
   "metadata": {},
   "outputs": [],
   "source": [
    "# Creating arrays \n",
    "average_fitness_plot = np.zeros(N_it)\n",
    "fBestAntenna_plot = np.zeros(N_it)\n",
    "\n",
    "best_x = 0\n",
    "best_y = 0\n",
    "\n",
    "## Set initial distribution parameters\n",
    "beta_alpha = np.ones((2,1))\n",
    "beta_beta = np.ones((2,1))\n",
    "## Start Cross-Entropy Optimization Algorithm\n",
    "for i in range(N_it):\n",
    "    # Sample 'x' and 'y' from the beta-distribution\n",
    "    # The goal is to create a vector of size (1,genSize)  \n",
    "    beta_alpha_r = np.tile(beta_alpha, genSize)\n",
    "    beta_beta_r = np.tile(beta_beta, genSize)\n",
    "    \n",
    "    x = np.random.beta(beta_alpha_r[0,:], beta_beta_r[0,:])\n",
    "    x_real = x * (x_range[1]-x_range[0]) + x_range[0]\n",
    "    y = np.random.beta(beta_alpha_r[1,:], beta_beta_r[1,:])\n",
    "    y_real = y * (y_range[1]-y_range[0]) + y_range[0]\n",
    "    \n",
    "    # Fitness evaluation - Here is your Goal Function\n",
    "    fitness = np.zeros(genSize)\n",
    "    for j in range(genSize):\n",
    "        fitness[j] = func(x_real[j], y_real[j])\n",
    "        \n",
    "    # After fitness evaulation is done, we sort the best parameters (quicksort...O(n*logn))\n",
    "    sortOrder = np.argsort(fitness)[::-1] # reverse for descending order\n",
    "    fitness = np.sort(fitness)[::-1] # reverse for descending order\n",
    "\n",
    "    # only take qElite number of the total generation\n",
    "    sortOrder = sortOrder[0:qElite]\n",
    "    # the elite, in descending order of fitness:\n",
    "    elite_x = x[sortOrder]\n",
    "    elite_y = y[sortOrder]\n",
    "\n",
    "    # has this generation produced a new best antenna?\n",
    "    if fitness[0] > fBestAntenna:\n",
    "        fBestAntenna = fitness[0]\n",
    "        best_x = elite_x[0]\n",
    "        best_y = elite_y[0]\n",
    "    \n",
    "    # plot vs iterations\n",
    "    average_fitness_plot[i] = np.mean(fitness)\n",
    "    fBestAntenna_plot[i] = fBestAntenna\n",
    "\n",
    "    if i < N_it: # don't bother in the last generation\n",
    "        xa, xb, xloc, xscale = beta.fit(elite_x, floc=0, fscale=1) # returns alpha, beta, location and scale\n",
    "        ya, yb, yloc, yscale = beta.fit(elite_y, floc=0, fscale=1) # returns alpha, beta, location and scale\n",
    "        new_beta_alpha = np.array(xa, ya)\n",
    "        new_beta_beta = np.array(xb, yb)\n",
    "        # Smoothing in optional (defined in a conventional way)\n",
    "        beta_alpha = beta_alpha + smoothing*(new_beta_alpha-beta_alpha)\n",
    "        beta_beta = beta_beta + smoothing*(new_beta_beta-beta_beta)\n"
   ]
  },
  {
   "cell_type": "markdown",
   "id": "8dfb9b8e",
   "metadata": {},
   "source": [
    "### Results\n"
   ]
  },
  {
   "cell_type": "code",
   "execution_count": 6,
   "id": "a94cb7dc",
   "metadata": {},
   "outputs": [
    {
     "data": {
      "image/png": "[encoded data removed]",
      "text/plain": [
       "<Figure size 432x288 with 1 Axes>"
      ]
     },
     "metadata": {
      "needs_background": "light"
     },
     "output_type": "display_data"
    },
    {
     "name": "stdout",
     "output_type": "stream",
     "text": [
      "Best point (x,y): (0.49999061849879634, 0.5000043470543333)\n",
      "    Best fitness: -0.0002927356303463746\n"
     ]
    }
   ],
   "source": [
    "fig, ax = plt.subplots()\n",
    "ax.plot(np.arange(1, N_it+1), fBestAntenna_plot)\n",
    "ax.plot(np.arange(1, N_it+1), average_fitness_plot)\n",
    "ax.set_title('Fitness over generations')\n",
    "ax.set_xlabel('Number of generations')\n",
    "ax.set_ylabel('Fitness function')\n",
    "ax.legend(['best fitness', 'average fitness'])\n",
    "ax.grid()\n",
    "plt.show()\n",
    "\n",
    "# output the best x and y value, corresponding fitness\n",
    "print(\"Best point (x,y): ({}, {})\".format(best_x, best_y))\n",
    "print(\"    Best fitness:\", fBestAntenna)"
   ]
  }
 ],
 "metadata": {
  "kernelspec": {
   "display_name": "Python 3",
   "language": "python",
   "name": "python3"
  },
  "language_info": {
   "codemirror_mode": {
    "name": "ipython",
    "version": 3
   },
   "file_extension": ".py",
   "mimetype": "text/x-python",
   "name": "python",
   "nbconvert_exporter": "python",
   "pygments_lexer": "ipython3",
   "version": "3.7.10"
  }
 },
 "nbformat": 4,
 "nbformat_minor": 5
}
